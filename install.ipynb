{
 "cells": [
  {
   "cell_type": "markdown",
   "metadata": {},
   "source": [
    "# Shallow clone repos as submodules"
   ]
  },
  {
   "cell_type": "code",
   "execution_count": 15,
   "metadata": {},
   "outputs": [],
   "source": [
    "    from poser import *"
   ]
  },
  {
   "cell_type": "markdown",
   "metadata": {},
   "source": [
    "    !conda install -yn bench tqdm"
   ]
  },
  {
   "cell_type": "code",
   "execution_count": 30,
   "metadata": {},
   "outputs": [
    {
     "data": {
      "application/vnd.jupyter.widget-view+json": {
       "model_id": "d1ec1f0e162847c099846a36ff3be736",
       "version_major": 2,
       "version_minor": 0
      },
      "text/plain": [
       "HBox(children=(IntProgress(value=0, max=6), HTML(value='')))"
      ]
     },
     "metadata": {},
     "output_type": "display_data"
    },
    {
     "name": "stdout",
     "output_type": "stream",
     "text": [
      "Cloning into '/Users/tonyfast/_bench/PyDMD'...\n",
      "remote: Counting objects: 197, done.\u001b[K\n",
      "remote: Compressing objects: 100% (167/167), done.\u001b[K\n",
      "remote: Total 197 (delta 30), reused 166 (delta 25), pack-reused 0\u001b[K\n",
      "Receiving objects: 100% (197/197), 11.81 MiB | 10.44 MiB/s, done.\n",
      "Resolving deltas: 100% (30/30), done.\n",
      "Checking connectivity... done.\n"
     ]
    }
   ],
   "source": [
    "    from IPython import get_ipython\n",
    "    from pathlib import Path\n",
    "    from yaml import safe_load\n",
    "\n",
    "    repos = λ.Path().Path.read_text().io.StringIO().yaml.safe_load()('repos.yml')\n",
    "    \n",
    "    for repo in λ.tqdm.tqdm_notebook()(repos):\n",
    "        local = Path(repo.rsplit('/', 1)[1])\n",
    "        if not local.exists():\n",
    "            !git submodule add --depth 1 $repo"
   ]
  }
 ],
 "metadata": {
  "kernelspec": {
   "display_name": "bench",
   "language": "python",
   "name": "bench"
  },
  "language_info": {
   "codemirror_mode": {
    "name": "ipython",
    "version": 3
   },
   "file_extension": ".py",
   "mimetype": "text/x-python",
   "name": "python",
   "nbconvert_exporter": "python",
   "pygments_lexer": "ipython3",
   "version": "3.6.5"
  },
  "varInspector": {
   "cols": {
    "lenName": 16,
    "lenType": 16,
    "lenVar": 40
   },
   "kernels_config": {
    "python": {
     "delete_cmd_postfix": "",
     "delete_cmd_prefix": "del ",
     "library": "var_list.py",
     "varRefreshCmd": "print(var_dic_list())"
    },
    "r": {
     "delete_cmd_postfix": ") ",
     "delete_cmd_prefix": "rm(",
     "library": "var_list.r",
     "varRefreshCmd": "cat(var_dic_list()) "
    }
   },
   "types_to_exclude": [
    "module",
    "function",
    "builtin_function_or_method",
    "instance",
    "_Feature"
   ],
   "window_display": false
  }
 },
 "nbformat": 4,
 "nbformat_minor": 2
}
