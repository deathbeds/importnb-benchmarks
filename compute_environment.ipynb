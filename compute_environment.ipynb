{
 "cells": [
  {
   "cell_type": "code",
   "execution_count": 3,
   "metadata": {},
   "outputs": [],
   "source": [
    "    from importnb import Interactive\n",
    "    with Interactive(display=True):\n",
    "        from install import repos\n",
    "    from poser import *"
   ]
  },
  {
   "cell_type": "code",
   "execution_count": 9,
   "metadata": {},
   "outputs": [],
   "source": [
    "kernel_name = 'bench'"
   ]
  },
  {
   "cell_type": "markdown",
   "metadata": {},
   "source": [
    "    !source activate $kernel_name && pip install importnb timeout_decorator poser pyyaml"
   ]
  },
  {
   "cell_type": "code",
   "execution_count": 6,
   "metadata": {},
   "outputs": [],
   "source": [
    "env = λ.ChainMap()()"
   ]
  },
  {
   "cell_type": "code",
   "execution_count": 7,
   "metadata": {},
   "outputs": [],
   "source": [
    "for directory in λ.map(a.str.rsplit('/', 1).last().Path())(repos):\n",
    "    if (directory / 'requirements.txt').exists():\n",
    "        env = λ.Path.read_text().str.splitlines()[lambda x: {'dependencies': [\n",
    "            {'pip': x}\n",
    "        ]}][{directory: λ.identity()}][env.new_child](directory / 'requirements.txt')\n",
    "    if (directory / 'environment.yml').exists():\n",
    "        env = λ.Path.read_text().io.StringIO().yaml.safe_load()[{directory: λ.identity()}][env.new_child](directory / 'environment.yml')"
   ]
  },
  {
   "cell_type": "code",
   "execution_count": 14,
   "metadata": {},
   "outputs": [],
   "source": [
    "    dependencies = (\n",
    "        λ / λ.valmap(λ.get('dependencies')).dict.values()\n",
    "    ).concat().list()[lambda x: sum(x, [])](env.maps)\n",
    "\n",
    "    dependencies = (\n",
    "        λ\n",
    "        .filter(λ**dict)\n",
    "        .map(x['pip'])\n",
    "        .concat().map(a.str.split('==').first()).unique().list()\n",
    "        [[λ[{'pip': λ.identity()}]]]\n",
    "    ).concatv(\n",
    "        (λ//λ**str*a.unique().sorted().list())(dependencies)\n",
    "    ).list()[{\n",
    "        'name': kernel_name,\n",
    "        'channels': (\n",
    "            λ.map(dict.values)\n",
    "            .concat().map(λ.methodcaller('get', 'channels', [])).concat().unique().sorted().list()\n",
    "        )(env.maps),\n",
    "        'dependencies': λ.identity(),\n",
    "    }](dependencies)\n",
    "    dependencies['dependencies'][-1]['pip'] = list(set(dependencies['dependencies'][-1]['pip']) - set(dependencies['dependencies'][:-1]))\n",
    "\n",
    "    condadeps = ['astropy', 'importnb', 'tqdm', 'ipywidgets']\n",
    "    pipdeps = ['poser']\n",
    "\n",
    "    dependencies['dependencies'] = condadeps + dependencies['dependencies']\n",
    "    dependencies['dependencies'][-1]['pip'] += pipdeps"
   ]
  },
  {
   "cell_type": "code",
   "execution_count": 16,
   "metadata": {},
   "outputs": [],
   "source": [
    "def write():\n",
    "    with open('environment.yml', 'w') as f:\n",
    "        λ.yaml.safe_dump(default_flow_style=False)[f.write](dependencies)"
   ]
  }
 ],
 "metadata": {
  "kernelspec": {
   "display_name": "bench",
   "language": "python",
   "name": "bench"
  },
  "language_info": {
   "codemirror_mode": {
    "name": "ipython",
    "version": 3
   },
   "file_extension": ".py",
   "mimetype": "text/x-python",
   "name": "python",
   "nbconvert_exporter": "python",
   "pygments_lexer": "ipython3",
   "version": "3.6.5"
  },
  "varInspector": {
   "cols": {
    "lenName": 16,
    "lenType": 16,
    "lenVar": 40
   },
   "kernels_config": {
    "python": {
     "delete_cmd_postfix": "",
     "delete_cmd_prefix": "del ",
     "library": "var_list.py",
     "varRefreshCmd": "print(var_dic_list())"
    },
    "r": {
     "delete_cmd_postfix": ") ",
     "delete_cmd_prefix": "rm(",
     "library": "var_list.r",
     "varRefreshCmd": "cat(var_dic_list()) "
    }
   },
   "types_to_exclude": [
    "module",
    "function",
    "builtin_function_or_method",
    "instance",
    "_Feature"
   ],
   "window_display": false
  }
 },
 "nbformat": 4,
 "nbformat_minor": 2
}
